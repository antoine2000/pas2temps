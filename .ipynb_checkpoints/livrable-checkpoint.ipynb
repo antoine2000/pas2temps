{
 "cells": [
  {
   "cell_type": "markdown",
   "metadata": {},
   "source": [
    "# Optimisation du pas de temps"
   ]
  },
  {
   "cell_type": "markdown",
   "metadata": {},
   "source": [
    "## Cadre de l'étude"
   ]
  },
  {
   "cell_type": "markdown",
   "metadata": {},
   "source": [
    "Ce travail a pour objectif l'étude de l'influence du choix du pas de temps dans les méthodes de résolution d'équations différentielles vues en cours.\n",
    "Plus exactement, on se propose de résoudre des problèmes de la forme : $ x' = f(x) $ avec $x : \\mathbb R^n \\longrightarrow \\mathbb R^m $ et $f : \\mathbb R^m \\longrightarrow \\mathbb R^m $"
   ]
  },
  {
   "cell_type": "markdown",
   "metadata": {},
   "source": [
    "L'étude s'est faite en deux temps : tout d'abord nous avons considéré un pas de temps fixe et analysé son influence sur les différents schémas numériques. Nous avons également étudié l'importance de l'ordre de ces derniers : en quoi un schéma d'ordre $n$ est-il plus performant qu'un schéma d'ordre inférieur ?\n",
    "Ensuite nous nous sommes intéressés au cas où le pas de temps est variable lors de la résolution de l'équation. Un programme nous a été fournis, nous devions le comprendre et l'illustrer dans des cas pertinents"
   ]
  },
  {
   "cell_type": "markdown",
   "metadata": {},
   "source": [
    "## Imports de modules"
   ]
  },
  {
   "cell_type": "markdown",
   "metadata": {},
   "source": [
    "Nous avons décidé d'insérer ici, une bonne fois pour toutes, les modules python que nous avons utilisé tout au long de l'étude"
   ]
  },
  {
   "cell_type": "code",
   "execution_count": 2,
   "metadata": {
    "collapsed": true
   },
   "outputs": [
    {
     "ename": "ModuleNotFoundError",
     "evalue": "No module named 'numpy'",
     "output_type": "error",
     "traceback": [
      "\u001b[1;31m---------------------------------------------------------------------------\u001b[0m",
      "\u001b[1;31mModuleNotFoundError\u001b[0m                       Traceback (most recent call last)",
      "\u001b[1;32m<ipython-input-2-e3d44cc6f27c>\u001b[0m in \u001b[0;36m<module>\u001b[1;34m\u001b[0m\n\u001b[0;32m      1\u001b[0m \u001b[1;32mimport\u001b[0m \u001b[0mmath\u001b[0m \u001b[1;32mas\u001b[0m \u001b[0mma\u001b[0m\u001b[1;33m\u001b[0m\u001b[1;33m\u001b[0m\u001b[0m\n\u001b[1;32m----> 2\u001b[1;33m \u001b[1;32mimport\u001b[0m \u001b[0mnumpy\u001b[0m\u001b[1;33m\u001b[0m\u001b[1;33m\u001b[0m\u001b[0m\n\u001b[0m\u001b[0;32m      3\u001b[0m \u001b[1;32mfrom\u001b[0m \u001b[0mnumpy\u001b[0m \u001b[1;32mimport\u001b[0m \u001b[1;33m*\u001b[0m\u001b[1;33m\u001b[0m\u001b[1;33m\u001b[0m\u001b[0m\n",
      "\u001b[1;31mModuleNotFoundError\u001b[0m: No module named 'numpy'"
     ]
    }
   ],
   "source": [
    "import math as ma\n",
    "from numpy import *"
   ]
  },
  {
   "cell_type": "markdown",
   "metadata": {},
   "source": [
    "# Pas de temps fixe"
   ]
  },
  {
   "cell_type": "markdown",
   "metadata": {},
   "source": [
    "Dans cette partie, nous donnerons nos implémentations de schémas numériques classiques (Euler, Runge-Kutta) et nous analyserons l'influence du choix du pas de temps sur ces derniers"
   ]
  },
  {
   "cell_type": "markdown",
   "metadata": {},
   "source": [
    "### Euler"
   ]
  },
  {
   "cell_type": "markdown",
   "metadata": {},
   "source": [
    "#### Cas explicite"
   ]
  },
  {
   "cell_type": "markdown",
   "metadata": {},
   "source": [
    "Cet algorithme est des plus classiques, l'utilisation éventuelle de fonctions agissant sur des espaces de dimensions non réduite à 1 implique la manipulation de vecteurs **numpy**"
   ]
  },
  {
   "cell_type": "code",
   "execution_count": 3,
   "metadata": {},
   "outputs": [],
   "source": [
    "def solve_euler_explicit(f, x0, t0, dt, t_tot=2):\n",
    "\n",
    "    ''' Cette fonction renvoie la solution à l'équation différentielle dx/dt = f(x) \n",
    "    avec la méthode d'Euler explicite, pour une durée de 1 seconde'''\n",
    "    \n",
    "    N = int(ma.floor(t_tot/dt))\n",
    "    t,x = t0,1*x0    # Donne le temps actuel et la position\n",
    "    T = [t]  # Liste de temps\n",
    "    X = array(x)  # Liste de positions\n",
    "    for _ in range(0,N):\n",
    "        t += dt    # Nouveau temps\n",
    "        x += dt*f(x)  # Nouvelle position\n",
    "        T.append(t)\n",
    "        X = concatenate((X,x),axis = 1)\n",
    "\n",
    "    return T, X"
   ]
  },
  {
   "cell_type": "markdown",
   "metadata": {},
   "source": [
    "#### Cas implicite"
   ]
  },
  {
   "cell_type": "markdown",
   "metadata": {},
   "source": [
    "Cet algorithme utilise le **théorème de Banach**, il faut donc choisir à partir de quand on considère le point fixe recherché avec la fonction **phi** atteint. Nous avons pris le partie de faire 100 itérations de **phi** puis ensuite d'étudier la variation relative en norme de deux itérations consécutives, en s'arrêtant lorsque cette dernière devient inférieure à 0.1%"
   ]
  },
  {
   "cell_type": "code",
   "execution_count": null,
   "metadata": {},
   "outputs": [],
   "source": [
    "def euler_implicite(f, x0, t0, dt, t_tot = 2):\n",
    "    N = int(ma.floor(t_tot/dt))  # Number of iterations\n",
    "    t,x = t0,1*x0           # Current time & current position\n",
    "    X = array(x)            # Liste de positions\n",
    "    T = [t]                 # Liste de temps\n",
    "\n",
    "    def phi(approx):\n",
    "        return x + dt*f(approx) \n",
    "    for _ in range(N):\n",
    "        t += dt\n",
    "        approx_pos = phi(x)\n",
    "        x = next_step(approx_pos, phi)\n",
    "        T.append(t)\n",
    "        X = concatenate((X,x),axis = 1)\n",
    "\n",
    "    return T,X\n",
    "\n",
    "def next_step(approx_pos,phi):\n",
    "    for _ in range(100):\n",
    "        approx_pos = phi(1*approx_pos)\n",
    "    temp = phi(approx_pos)\n",
    "    while linalg.norm(temp-approx_pos)/linalg.norm(approx_pos) > 0.001 :\n",
    "        approx_pos = 1*temp\n",
    "        temp = 1*phi(approx_pos)\n",
    "    return approx_pos"
   ]
  },
  {
   "cell_type": "markdown",
   "metadata": {},
   "source": [
    "### Runge-Kutta"
   ]
  },
  {
   "cell_type": "markdown",
   "metadata": {},
   "source": [
    "#### Ordre 2"
   ]
  },
  {
   "cell_type": "code",
   "execution_count": null,
   "metadata": {},
   "outputs": [],
   "source": [
    "def Runge_Kutta_2(f, x0, t0, dt, t_tot = 2):\n",
    "\n",
    "    N = int(ma.floor(t_tot/dt))  # Number of iterations\n",
    "    t,x = t0,1*x0                # Current time & current position\n",
    "    X = array(x)                 # Liste de positions\n",
    "    T = [t]                      # Liste de temps\n",
    "\n",
    "    for k in range(N):\n",
    "        t += dt\n",
    "        middle_pos = x + dt/2*f(x)\n",
    "        x += dt*f(middle_pos)\n",
    "\n",
    "        T.append(t)\n",
    "        X = concatenate((X,x),axis = 1)\n",
    "\n",
    "    return T,X"
   ]
  },
  {
   "cell_type": "markdown",
   "metadata": {},
   "source": [
    "#### Ordre 4"
   ]
  },
  {
   "cell_type": "code",
   "execution_count": null,
   "metadata": {},
   "outputs": [],
   "source": [
    "def Runge_Kutta_4(f, x0, t0, dt, t_tot = 2):\n",
    "    # PAS FINI\n",
    "    N = int(ma.floor(t_tot/dt))  # Number of iterations\n",
    "    t,x = t0,1*x0                # Current time & current position\n",
    "    X = array(x)                 # Liste de positions\n",
    "    T = [t]                      # Liste de temps\n",
    "\n",
    "    for k in range(N):\n",
    "        t += dt\n",
    "        middle_pos_1 = x + dt/2*f(x)\n",
    "        x += dt*f(middle_pos)\n",
    "\n",
    "        T.append(t)\n",
    "        X = concatenate((X,x),axis = 1)\n",
    "\n",
    "    return T,X"
   ]
  },
  {
   "cell_type": "markdown",
   "metadata": {},
   "source": [
    "### Résultat de tests"
   ]
  },
  {
   "cell_type": "markdown",
   "metadata": {},
   "source": [
    "Nous avons décidé de comparer à la fois les méthodes entre elles et l'influence des pas de temps, afin de gagner en concision et en clarté."
   ]
  },
  {
   "cell_type": "markdown",
   "metadata": {},
   "source": [
    "#### Fonction exponentielle"
   ]
  },
  {
   "cell_type": "markdown",
   "metadata": {},
   "source": [
    "#### Fonction carrée"
   ]
  },
  {
   "cell_type": "markdown",
   "metadata": {},
   "source": [
    "#### Fonction cosinus"
   ]
  },
  {
   "cell_type": "markdown",
   "metadata": {},
   "source": [
    "On observe que ces schémas numériques sont tous **consistants** : l'erreur maximale entre la solution approximée et la vraie solution tend vers 0 lorsque le pas de temps diminue aussi vers 0. C'est une propriété essentielle pour n'importe quel schéma numérique.\n",
    "On voit de plus ici que nos implémentations fonctionnent pour des cas scalaires (exponentielle et carrée) et vectoriels (cosinus). Il est cependant à noter que les méthodes d'Euler semblent moins efficaces que celles de Runge-Kutta d'ordre supérieur à 1.\n"
   ]
  },
  {
   "cell_type": "markdown",
   "metadata": {},
   "source": [
    "## Pas de temps variable"
   ]
  },
  {
   "cell_type": "markdown",
   "metadata": {},
   "source": [
    "Maintenant que nous avons étudié l'influence du pas de temps, nous voulons optimiser le choix de ce dernier en fonction des situations. En effet une zone \"sensible\" où la fonction varie beaucoup nécessite un pas plus petit qu'une zone totalement linéaire. C'est la raison expliquant la variation possible du pas de temps.\n",
    "L'algorithme suivant a été codé dans ce sens : on garde un pas \"d'enregistrement\" constant, c'est-à-dire que la solution reste échantillonnée sur des intervalles de longueue fixe $dt_{max}$, mais un autre pas est introduit : le pas **interne** $p_i$\n",
    "Ce pas interne détermine les sous-intervalles sur lesquelles nous font les intégrations prévues dans la méthode d'Euler explicite. Il est choisi de manière à garder l'erreur d'approximation entre deux échantillonages inférieure à un certain seuil $T_{rel}$ : en effet, si le pas de temps interne $p_i$ donne lieu à une trop grande erreur d'approximation (i.e si $ ||x_{back} - x_{next}||$ est grand) on réduit ce pas, et vice-versa."
   ]
  },
  {
   "cell_type": "code",
   "execution_count": null,
   "metadata": {},
   "outputs": [],
   "source": []
  }
 ],
 "metadata": {
  "kernelspec": {
   "display_name": "Python 3",
   "language": "python",
   "name": "python3"
  },
  "language_info": {
   "codemirror_mode": {
    "name": "ipython",
    "version": 3
   },
   "file_extension": ".py",
   "mimetype": "text/x-python",
   "name": "python",
   "nbconvert_exporter": "python",
   "pygments_lexer": "ipython3",
   "version": "3.7.4"
  }
 },
 "nbformat": 4,
 "nbformat_minor": 2
}
