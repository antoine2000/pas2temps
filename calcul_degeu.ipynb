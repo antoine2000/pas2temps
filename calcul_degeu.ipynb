{
 "cells": [
  {
   "cell_type": "markdown",
   "metadata": {},
   "source": [
    "Tout d'abord on peut écrire plus clairement la formule qui est en fait : $e^{j+1} = (x^j + \\int_{t_{j}}^{t_{j+1}} f(s,\\tilde x(s)) ds) - x^{j+1}\\\\\n",
    "$  \n",
    "Où $\\tilde x$ est la solution de :\n",
    "\n",
    "$  \\begin{equation}\n",
    "\\left\\lbrace\n",
    "\\begin{array}{}\n",
    "\\dot{\\tilde x}(t) = f(t,x)\\\\\n",
    "\\tilde x(t_j) = x^{j}\\\\\n",
    "\\end{array}\\right.\n",
    "\\end{equation}\\\\\n",
    "e^{j+1} = (x^j + \\int_{t_{j}}^{t_{j+1}} f(s,\\tilde x(s)) ds) - x^{j+1} \\\\\n",
    "= (x^j + \\tilde x(t_{j+1}) - \\tilde x(t_j)) - (x^j + \\int_{t_{j}}^{t_{j+1}} f(t_j,x^j) ds)) \\\\\n",
    "= \\tilde x(t_{j+1}) - \\tilde x(t_j) - \\Delta t f(t_j,x^j) \\\\\n",
    "\\text{Et en utilisant un développement de Taylor à l'ordre 2 sur } \\tilde x \\text{ car } f \\in \\mathcal{C}^1 (\\mathbb{R}x\\mathbb{R}^n,\\mathbb{R}) \\, et \\, donc \\, \\tilde x \\in \\mathcal{C}^2 (\\mathbb{R},\\mathbb{R}^n) \\, : \\\\\n",
    "= \\dot{\\tilde x}(t_j)\\Delta t + \\frac{\\ddot{\\tilde x}(t_j)}{2}\\Delta t^2- \\Delta t f(t_j,x^j) + O(\\Delta t ^3) \\\\\n",
    "= f(t_j,\\tilde x(t_j))\\Delta t + \\frac{\\partial f}{\\partial t}(t_j,\\tilde x(t_j))\\frac{\\Delta t^2}{2} +f(t_j,\\tilde x(t_j))\\frac{\\partial f}{\\partial x}(t_j,\\tilde x(t_j))\\frac{\\Delta t^2}{2}- \\Delta t f(t_j,x^j) + O(\\Delta t ^3) \\\\\n",
    "= \\frac{\\partial f}{\\partial t}(t_j,\\tilde x(t_j))\\frac{\\Delta t^2}{2} + f(t_j,\\tilde x(t_j))\\frac{\\partial f}{\\partial x}(t_j,\\tilde x(t_j))\\frac{\\Delta t^2}{2} + O(\\Delta t ^3)\\\\\n",
    "= \\frac{\\partial f}{\\partial t}(t_j,x^j)\\frac{\\Delta t^2}{2} + f(t_j,x^j)\\frac{\\partial f}{\\partial x}(t_j,x^j) + O(\\Delta t ^3)\\\\\n",
    "\\text{Or en utilisant un développement de Taylor à l'ordre 1 sur } f \\text{ car } f \\in \\mathcal{C}^1 (\\mathbb{R}x\\mathbb{R}^n,\\mathbb{R}) \\, : \\\\\n",
    "f(t_{j+1},x^{j+1}) = f(t_j,x^j) + \\Delta t \\frac{\\partial f}{\\partial t}(t_j,\\tilde x(t_j)) + (x^{j+1} - x^j)\\frac{\\partial f}{\\partial x}(t_j,x^j) + O(\\Delta t^2)\\\\\n",
    "= f(t_j,x^j) + \\Delta t \\frac{\\partial f}{\\partial t}(t_j,\\tilde x(t^j)) + \\Delta t f(t_j,x^j)\\frac{\\partial f}{\\partial x}(t_j,x^j) + O(\\Delta t^2) \\; \\; \\; \\; \\; \\; \\; \\; \\; \\; \\; \\; \\text{(E1)}\\\\\n",
    "\\text{Donc } f(t_j,x^j)\\frac{\\partial f}{\\partial x}(t_j,x^j)\\frac{\\Delta t^2}{2} = f(t_{j+1},x^{j+1})\\frac{\\Delta t}{2} - f(t_j,x^j)\\frac{\\Delta t}{2} - \\frac{\\partial f}{\\partial t}(t_j,\\tilde x(t_j)) \\frac{\\Delta t^2}{2} + O(\\Delta t ^3)\\\\\n",
    "\\text{Donc } e^{j+1} = f(t_{j+1},x^{j+1})\\frac{\\Delta t}{2} - f(t_j,x^j)\\frac{\\Delta t}{2} + O(\\Delta t ^3) \\\\\n",
    "= \\frac{\\Delta t}{2}(f(t_{j+1},x^{j+1}) - f(t_j,x^j)) + O(\\Delta t ^3)\\\\\n",
    "\\text{Et enfin par inégalité triangulaire : } \\vert \\Vert e^{j+1} \\Vert - \\Vert \\frac{\\Delta t}{2}(f(t_{j+1},x^{j+1}) - f(t_j,x^j)) \\Vert \\vert \\leqslant \\Vert e^{j+1} - \\frac{\\Delta t}{2}(f(t_{j+1},x^{j+1}) - f(t_j,x^j)) \\Vert = O(\\Delta t ^3) \\\\\n",
    "\\text{Donc : } \\boxed{\\Vert e^{j+1} \\Vert = \\Vert \\frac{\\Delta t}{2}(f(t_{j+1},x^{j+1}) - f(t_j,x^j)) \\Vert + O(\\Delta t ^3)}\\\\\n",
    "\\text{D'après (E1) : } (f(t_{j+1},x^{j+1}) - f(t_j,x^j)) = O(\\Delta t) \\\\\n",
    "\\text{Et donc } \\boxed{e^{j+1} = O(\\Delta t^2)}$\n"
   ]
  },
  {
   "cell_type": "code",
   "execution_count": null,
   "metadata": {},
   "outputs": [],
   "source": []
  }
 ],
 "metadata": {
  "kernelspec": {
   "display_name": "Python 3",
   "language": "python",
   "name": "python3"
  },
  "language_info": {
   "codemirror_mode": {
    "name": "ipython",
    "version": 3
   },
   "file_extension": ".py",
   "mimetype": "text/x-python",
   "name": "python",
   "nbconvert_exporter": "python",
   "pygments_lexer": "ipython3",
   "version": "3.7.3"
  }
 },
 "nbformat": 4,
 "nbformat_minor": 2
}
