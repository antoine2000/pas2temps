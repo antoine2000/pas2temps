{
 "cells": [
  {
   "cell_type": "markdown",
   "metadata": {},
   "source": [
    "Tout d'abord il faut corriger la formule qui est en fait : $e^{j+1} = (x^j + \\int_{t_{j}}^{t_{j+1}} f(s,\\tilde x(s)) ds) - x^{j+1}\\\\\n",
    "$  \n",
    "Où $\\tilde x$ est la solution de :\n",
    "\n",
    "$\\begin{equation}\n",
    "\\left\\lbrace\n",
    "\\begin{array}{}\n",
    "\\dot{\\tilde x}(t) = f(t,x)\\\\\n",
    "\\tilde x(t_j) = x^{j}\\\\\n",
    "\\end{array}\\right.\n",
    "\\end{equation}\\\\\n",
    "e^{j+1} = (x^j + \\int_{t_{j}}^{t_{j+1}} f(s,\\tilde x(s)) ds) - x^{j+1} \\\\\n",
    "= (x^j + \\tilde x(t_{j+1}) - \\tilde x(t_j)) - (x^j + \\int_{t_{j}}^{t_{j+1}} f(t_j,x^j) ds)) \\\\\n",
    "= \\tilde x(t_{j+1}) - \\tilde x(t_j) - \\Delta t f(t_j,x^j) \\\\\n",
    "= \\dot{\\tilde x}(t_j)\\Delta t + \\frac{\\ddot{\\tilde x}(t_j)}{2}\\Delta t^2- \\Delta t f(t_j,x^j) + O(\\Delta t ^3) \\\\\n",
    "= f(t_j,\\tilde x(t_j))\\Delta t + \\frac{\\delta f}{\\delta t}(t_j,\\tilde x(t_j))\\frac{\\Delta t^2}{2} +f(t_j,\\tilde x(t_j))\\frac{\\delta f}{\\delta x}(t_j,\\tilde x(t_j))\\frac{\\Delta t^2}{2}- \\Delta t f(t_j,x^j) + O(\\Delta t ^3) \\\\\n",
    "= \\frac{\\delta f}{\\delta t}(t_j,\\tilde x(t_j))\\frac{\\Delta t^2}{2} + f(t_j,\\tilde x(t_j))\\frac{\\delta f}{\\delta x}(t_j,\\tilde x(t_j))\\frac{\\Delta t^2}{2} + O(\\Delta t ^3)\\\\\n",
    "= \\frac{\\delta f}{\\delta t}(t_j,x^j)\\frac{\\Delta t^2}{2} + f(t_j,x^j)\\frac{\\delta f}{\\delta x}(t_j,x^j) + O(\\Delta t ^3)\\\\\n",
    "\\\\\n",
    "Or \\, f(t_{j+1},x^{j+1}) = f(t_j,x^j) + \\Delta t \\frac{\\delta f}{\\delta t}(t_j,\\tilde x(t_j)) + (x^{j+1} - x^j)\\frac{\\delta f}{\\delta x}(t_j,x^j) + O(\\Delta t 2) \\\\\n",
    "= f(t_j,x^j) + \\Delta t \\frac{\\delta f}{\\delta t}(t_j,\\tilde x(^j) + \\Delta t f(t_j,x^j)\\frac{\\delta f}{\\delta x}(t_j,x^j) + O(\\Delta t 2)\\\\\n",
    "Donc \\, f(t_j,x^j)\\frac{\\delta f}{\\delta x}(t_j,x^j)\\frac{\\Delta t^2}{2} = f(t_{j+1},x^{j+1})\\frac{\\Delta t}{2} - f(t_j,x^j)\\frac{\\Delta t}{2} - \\frac{\\delta f}{\\delta t}(t_j,\\tilde x(t_j)) \\frac{\\Delta t^2}{2} + O(\\Delta t ^3)\\\\\n",
    "Donc \\, e^{j+1} = f(t_{j+1},x^{j+1})\\frac{\\Delta t}{2} - f(t_j,x^j)\\frac{\\Delta t}{2} + O(\\Delta t ^3) \\\\\n",
    "= \\frac{\\Delta t}{2}(f(t_{j+1},x^{j+1}) - f(t_j,x^j))\n",
    "$"
   ]
  },
  {
   "cell_type": "markdown",
   "metadata": {},
   "source": []
  },
  {
   "cell_type": "code",
   "execution_count": null,
   "metadata": {},
   "outputs": [],
   "source": []
  }
 ],
 "metadata": {
  "kernelspec": {
   "display_name": "Python 3",
   "language": "python",
   "name": "python3"
  },
  "language_info": {
   "codemirror_mode": {
    "name": "ipython",
    "version": 3
   },
   "file_extension": ".py",
   "mimetype": "text/x-python",
   "name": "python",
   "nbconvert_exporter": "python",
   "pygments_lexer": "ipython3",
   "version": "3.7.3"
  }
 },
 "nbformat": 4,
 "nbformat_minor": 2
}
